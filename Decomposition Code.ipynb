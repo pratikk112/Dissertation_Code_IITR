{
 "cells": [
  {
   "cell_type": "markdown",
   "metadata": {},
   "source": [
    "#### Getting data from yfinance"
   ]
  },
  {
   "cell_type": "code",
   "execution_count": null,
   "metadata": {},
   "outputs": [],
   "source": [
    "import yfinance as yf\n",
    "import pandas as pd\n",
    "\n",
    "# Download Nifty 50 data from Yahoo Finance\n",
    "start_date = '2012-01-01'\n",
    "end_date = '2019-12-31'\n",
    "nifty_50_data = yf.download(\"^NSEI\", start=start_date, end=end_date)\n",
    "\n",
    "# Create a Pandas DataFrame\n",
    "nifty_50_df = pd.DataFrame(nifty_50_data)\n",
    "\n",
    "# Print the DataFrame (optional)\n",
    "print(nifty_50_df)\n",
    "\n",
    "# Save the DataFrame to a CSV file (optional)\n",
    "nifty_50_df.to_csv('nifty_50_data.csv', index=True)"
   ]
  },
  {
   "cell_type": "code",
   "execution_count": null,
   "metadata": {},
   "outputs": [],
   "source": [
    "import pandas as pd\n",
    "import matplotlib.pyplot as plt\n",
    "from matplotlib.pyplot import figure\n",
    "\n",
    "# Read the CSV file\n",
    "df = pd.read_csv('/content/nifty_50_data_2.csv')\n",
    "\n",
    "# Convert 'Date' column to datetime\n",
    "df['Date'] = pd.to_datetime(df['Date'])\n",
    "\n",
    "# Set 'Date' column as the index\n",
    "df.set_index(\"Date\", drop=False, inplace=True)\n",
    "\n",
    "# Plot settings\n",
    "figure(figsize=(20, 12), dpi=80)  # Set background color\n",
    "plt.rcParams.update({'font.size': 14})  # Increase font size for the plot\n",
    "\n",
    "# Time series plot of nifty 50 data\n",
    "time_x = df.index\n",
    "time_y = df['Close']\n",
    "plt.title('Plot of Closing price vs Time')\n",
    "plt.xlabel('Time')\n",
    "plt.ylabel('Closing Price')\n",
    "plt.plot(time_x, time_y)\n",
    "\n",
    "\n",
    "# Show grid\n",
    "plt.grid(True)\n",
    "plt.tight_layout()\n",
    "plt.savefig('Original PLOT 2', dpi=120)\n",
    "# Show the plot\n",
    "plt.show()\n"
   ]
  },
  {
   "cell_type": "code",
   "execution_count": null,
   "metadata": {},
   "outputs": [],
   "source": [
    "!pip install EMD-signal"
   ]
  },
  {
   "cell_type": "code",
   "execution_count": null,
   "metadata": {},
   "outputs": [],
   "source": [
    "Signal = df['Close'].to_numpy()\n",
    "T = df.index.to_numpy()"
   ]
  },
  {
   "cell_type": "markdown",
   "metadata": {},
   "source": [
    "#### EMD from PyEMD"
   ]
  },
  {
   "cell_type": "code",
   "execution_count": null,
   "metadata": {},
   "outputs": [],
   "source": [
    "from PyEMD import EMD\n",
    "emd = EMD(std_thr=0.01, range_thr=0.05)\n",
    "IMFs = emd(Signal)\n",
    "nIMFs = len(IMFs)\n",
    "print(nIMFs)\n",
    "# visualize the subsequences getting from the original signal\n",
    "plt.figure(figsize=(20,12))\n",
    "plt.subplot(nIMFs+1, 1, 1)\n",
    "plt.ylabel(\"Original series\")\n",
    "plt.plot(T, Signal, 'r')\n",
    "\n",
    "for n in range(nIMFs):\n",
    "  plt.subplot(nIMFs+1, 1, n+2)\n",
    "  plt.plot(T, IMFs[n], 'g')\n",
    "  plt.ylabel(\"IMF %i\" %(n+1))\n",
    "  plt.locator_params(axis='y', nbins=5)\n",
    "plt.xlabel(\"Time\")\n",
    "plt.tight_layout()\n",
    "plt.savefig('EMD PLOT', dpi=120)\n",
    "plt.show()\n",
    "\n",
    "\n",
    "IMFS_DF = pd.DataFrame(IMFs)\n",
    "print(IMFS_DF.shape)\n",
    "#exporting the IMF df\n",
    "IMFS_DF.to_csv('EMD_IMFS_2.csv')"
   ]
  },
  {
   "cell_type": "markdown",
   "metadata": {},
   "source": [
    "#### EEMD from PyEMD"
   ]
  },
  {
   "cell_type": "code",
   "execution_count": null,
   "metadata": {},
   "outputs": [],
   "source": [
    "from PyEMD import EEMD\n",
    "eemd = EEMD()\n",
    "IMFs = eemd(Signal)\n",
    "nIMFs = len(IMFs)\n",
    "\n",
    "# visualize the subsequences getting from the original signal\n",
    "plt.figure(figsize=(16,9))\n",
    "plt.subplot(nIMFs+1, 1, 1)\n",
    "plt.plot(T, Signal, 'r')\n",
    "\n",
    "for n in range(nIMFs):\n",
    "  plt.subplot(nIMFs+1, 1, n+2)\n",
    "  plt.plot(T, IMFs[n], 'g')\n",
    "  plt.ylabel(\"IMF %i\" %(n+1))\n",
    "  plt.locator_params(axis='y', nbins=5)\n",
    "plt.xlabel(\"Time\")\n",
    "plt.tight_layout()\n",
    "plt.savefig('EEMD_PLOT_2', dpi=120)\n",
    "plt.show()\n",
    "\n",
    "IMFS_DF = pd.DataFrame(IMFs)\n",
    "print(IMFS_DF.shape)\n",
    "#exporting the IMF df\n",
    "IMFS_DF.to_csv('EEMD_IMFS.csv')"
   ]
  },
  {
   "cell_type": "markdown",
   "metadata": {},
   "source": [
    "#### Ceemdan from PyEMD"
   ]
  },
  {
   "cell_type": "code",
   "execution_count": null,
   "metadata": {},
   "outputs": [],
   "source": [
    "from PyEMD import CEEMDAN\n",
    "ceemdan = CEEMDAN()\n",
    "IMFs = ceemdan(Signal)\n",
    "nIMFs = len(IMFs)\n",
    "\n",
    "# visualize the subsequences getting from the original signal\n",
    "plt.figure(figsize=(16,9))\n",
    "plt.subplot(nIMFs+1, 1, 1)\n",
    "plt.plot(T, Signal, 'r')\n",
    "\n",
    "for n in range(nIMFs):\n",
    "  plt.subplot(nIMFs+1, 1, n+2)\n",
    "  plt.plot(T, IMFs[n], 'g')\n",
    "  plt.ylabel(\"IMF %i\" %(n+1))\n",
    "  plt.locator_params(axis='y', nbins=5)\n",
    "plt.xlabel(\"Time\")\n",
    "plt.tight_layout()\n",
    "plt.savefig('CEEMDAN PLOT 2', dpi=120)\n",
    "plt.show()\n",
    "\n",
    "IMFS_DF = pd.DataFrame(IMFs)\n",
    "print(IMFS_DF.shape)\n",
    "#exporting the IMF df\n",
    "IMFS_DF.to_csv('CEEMDAN_IMFS_2.csv')"
   ]
  }
 ],
 "metadata": {
  "kernelspec": {
   "display_name": "Python 3",
   "language": "python",
   "name": "python3"
  },
  "language_info": {
   "name": "python",
   "version": "3.11.1"
  }
 },
 "nbformat": 4,
 "nbformat_minor": 2
}
